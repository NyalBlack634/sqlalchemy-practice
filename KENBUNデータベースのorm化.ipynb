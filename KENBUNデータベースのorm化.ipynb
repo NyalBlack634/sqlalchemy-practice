{
 "cells": [
  {
   "cell_type": "code",
   "execution_count": 1,
   "metadata": {},
   "outputs": [],
   "source": [
    "from sqlalchemy import Table, Column, Integer, String, ForeignKey\n",
    "from sqlalchemy import create_engine\n",
    "from sqlalchemy.orm import relationship\n",
    "from sqlalchemy.orm import sessionmaker\n",
    "from sqlalchemy.ext.declarative import declarative_base"
   ]
  },
  {
   "cell_type": "code",
   "execution_count": 2,
   "metadata": {},
   "outputs": [],
   "source": [
    "from sqlalchemy.sql.sqltypes import NullType"
   ]
  },
  {
   "cell_type": "code",
   "execution_count": 3,
   "metadata": {},
   "outputs": [],
   "source": [
    "# DB接続\n",
    "engine = create_engine('sqlite:///serach_index.db')\n",
    "\n",
    "Base = declarative_base()\n"
   ]
  },
  {
   "cell_type": "code",
   "execution_count": 4,
   "metadata": {},
   "outputs": [],
   "source": [
    "from sqlalchemy import MetaData\n",
    "meta = MetaData(engine)\n",
    "meta.reflect()\n"
   ]
  },
  {
   "cell_type": "code",
   "execution_count": 5,
   "metadata": {},
   "outputs": [
    {
     "name": "stdout",
     "output_type": "stream",
     "text": [
      "{'_bind': Engine(sqlite:///serach_index.db),\n",
      " '_fk_memos': defaultdict(<class 'list'>, {}),\n",
      " '_schemas': set(),\n",
      " '_sequences': {},\n",
      " 'dispatch': <sqlalchemy.event.base.DDLEventsDispatch object at 0x000001D320C84840>,\n",
      " 'naming_convention': immutabledict({'ix': 'ix_%(column_0_label)s'}),\n",
      " 'schema': None,\n",
      " 'tables': FacadeDict({'headline': Table('headline', MetaData(bind=Engine(sqlite:///serach_index.db)), Column('id', INTEGER(), table=<headline>, primary_key=True), Column('company', NullType(), table=<headline>), Column('year', NullType(), table=<headline>), Column('month', NullType(), table=<headline>), Column('page', NullType(), table=<headline>), Column('ocr_result', NullType(), table=<headline>), schema=None), 'headline_paths': Table('headline_paths', MetaData(bind=Engine(sqlite:///serach_index.db)), Column('id', INTEGER(), table=<headline_paths>, primary_key=True), Column('path', NullType(), table=<headline_paths>), schema=None), 'headline_size': Table('headline_size', MetaData(bind=Engine(sqlite:///serach_index.db)), Column('id', INTEGER(), table=<headline_size>, primary_key=True), Column('width', INTEGER(), table=<headline_size>), Column('height', INTEGER(), table=<headline_size>), schema=None), 'ocr_text': Table('ocr_text', MetaData(bind=Engine(sqlite:///serach_index.db)), Column('id', INTEGER(), table=<ocr_text>, primary_key=True), Column('headline_text', NullType(), table=<ocr_text>), schema=None), 'search_keywords': Table('search_keywords', MetaData(bind=Engine(sqlite:///serach_index.db)), Column('keywords', NCHAR(length=255), table=<search_keywords>, primary_key=True), Column('result_jsons', NullType(), table=<search_keywords>), schema=None), 'test_table': Table('test_table', MetaData(bind=Engine(sqlite:///serach_index.db)), Column('keywords', NCHAR(length=255), table=<test_table>, primary_key=True), Column('result_jsons', NullType(), table=<test_table>), schema=None)})}\n"
     ]
    }
   ],
   "source": [
    "import pprint\n",
    "\n",
    "pprint.pprint(vars(meta))  # これで中身を確かめて自力でclassを作る？\n"
   ]
  },
  {
   "cell_type": "code",
   "execution_count": 6,
   "metadata": {},
   "outputs": [],
   "source": [
    "Base.metadata.create_all(engine)"
   ]
  },
  {
   "cell_type": "markdown",
   "metadata": {},
   "source": [
    "# headlineテーブルのクラス化"
   ]
  },
  {
   "cell_type": "code",
   "execution_count": 11,
   "metadata": {},
   "outputs": [],
   "source": [
    "class Headline(Base):\n",
    "    __tablename__ = 'headline'\n",
    "    id = Column(Integer)\n",
    "    id.primary_key = True\n",
    "    company = Column(NullType)\n",
    "    year = Column(NullType)\n",
    "    month = Column(NullType)\n",
    "    page = Column(NullType)\n",
    "    ocr_result = Column(NullType)"
   ]
  },
  {
   "cell_type": "code",
   "execution_count": 9,
   "metadata": {},
   "outputs": [],
   "source": [
    "# セッションの生成\n",
    "Session = sessionmaker(bind=engine)\n",
    "session = Session()\n"
   ]
  },
  {
   "cell_type": "code",
   "execution_count": 12,
   "metadata": {},
   "outputs": [],
   "source": [
    "headline_obj = session.query(Headline).limit(10).all()"
   ]
  },
  {
   "cell_type": "code",
   "execution_count": 13,
   "metadata": {},
   "outputs": [
    {
     "name": "stdout",
     "output_type": "stream",
     "text": [
      "id:0, 1932年-10月-2-y-2_01\n",
      "んぐみ\n",
      "| day\n",
      "三人組の隨一 ジ一堅い信念を貫いた。\n",
      "BEATION FLOR ANATUREHOU\n",
      "||||\n",
      "**********\n",
      "id:1, 1932年-10月-2-y-2_02\n",
      "四戒を守って 健やか&伸びる 專科に運動に大いに養\n",
      "日田男子校の巻\n",
      "**********\n",
      "id:2, 1932年-10月-2-y-2_03\n",
      "少年 少 女 講 座 メートル法の起源\n",
      "**********\n",
      "id:3, 1932年-10月-2-y-9_01\n",
      "10WH\n",
      "||||||||RUNWHIEF\n",
      "電器具と 附屬品のいろく\n",
      "文明國の小國民は\n",
      "是非知って置きませう\n",
      "**********\n",
      "id:4, 1932年-10月-2-y-9_04\n",
      "hateway.\n",
      "いろいろ\n",
      "電燈線の\n",
      "**********\n",
      "id:5, 1932年-10月-2-y-4_01\n",
      "日本は殊に 霞が招はい それは気温を 氣壁の配置から」\n",
      "**********\n",
      "id:6, 1932年-10月-2-a-8_01\n",
      "の 發 明\n",
      "**********\n",
      "id:7, 1932年-10月-2-a-8_03\n",
      "でんわ\n",
      "くった\n",
      "電話機の組立\n",
      "**********\n",
      "id:8, 1932年-10月-2-y-6_02\n",
      "たましひ\n",
      "1日本魂の權化\n",
      "―肉弾三勇士の少年時代―\n",
      "ゆう\n",
      "**********\n",
      "id:9, 1932年-10月-2-y-9_02\n",
      "照渡自在な。 スウィッチー\n",
      "その變り種のいろく\n",
      "**********\n"
     ]
    }
   ],
   "source": [
    "for headline in headline_obj:\n",
    "    id = headline.id\n",
    "    year = headline.year\n",
    "    month = headline.month\n",
    "    page = headline.page\n",
    "    print(f'id:{id}, {year}-{month}-{page}')\n",
    "    print(headline.ocr_result)\n",
    "\n",
    "    print('*'*10)"
   ]
  },
  {
   "cell_type": "markdown",
   "metadata": {},
   "source": [
    "# Headline_pathsテーブル"
   ]
  },
  {
   "cell_type": "code",
   "execution_count": 7,
   "metadata": {},
   "outputs": [],
   "source": [
    "class Headline_Paths:\n",
    "    __tablename__ = 'headline_paths'\n",
    "    id = Column(Integer)\n",
    "    id.primary_key = True\n",
    "    path = Column(NullType)"
   ]
  },
  {
   "cell_type": "code",
   "execution_count": 10,
   "metadata": {},
   "outputs": [
    {
     "ename": "ArgumentError",
     "evalue": "Column expression or FROM clause expected, got <class '__main__.Headline_Paths'>.",
     "output_type": "error",
     "traceback": [
      "\u001b[1;31m---------------------------------------------------------------------------\u001b[0m",
      "\u001b[1;31mArgumentError\u001b[0m                             Traceback (most recent call last)",
      "\u001b[1;32mセル14 を d:\\ProgramProject\\sqlalchemy_practice\\KENBUNデータベースのorm化.ipynb\u001b[0m in \u001b[0;36m<cell line: 1>\u001b[1;34m()\u001b[0m\n\u001b[1;32m----> <a href='vscode-notebook-cell:/d%3A/ProgramProject/sqlalchemy_practice/KENBUN%E3%83%87%E3%83%BC%E3%82%BF%E3%83%99%E3%83%BC%E3%82%B9%E3%81%AEorm%E5%8C%96.ipynb#X22sZmlsZQ%3D%3D?line=0'>1</a>\u001b[0m headline_paths \u001b[39m=\u001b[39m session\u001b[39m.\u001b[39;49mquery(Headline_Paths)\u001b[39m.\u001b[39mlimit(\u001b[39m10\u001b[39m)\u001b[39m.\u001b[39mall()\n",
      "File \u001b[1;32mc:\\Users\\naoki\\anaconda3\\envs\\orm_pra\\lib\\site-packages\\sqlalchemy\\orm\\session.py:2159\u001b[0m, in \u001b[0;36mSession.query\u001b[1;34m(self, *entities, **kwargs)\u001b[0m\n\u001b[0;32m   2153\u001b[0m \u001b[39mdef\u001b[39;00m \u001b[39mquery\u001b[39m(\u001b[39mself\u001b[39m, \u001b[39m*\u001b[39mentities, \u001b[39m*\u001b[39m\u001b[39m*\u001b[39mkwargs):\n\u001b[0;32m   2154\u001b[0m     \u001b[39m\"\"\"Return a new :class:`_query.Query` object corresponding to this\u001b[39;00m\n\u001b[0;32m   2155\u001b[0m \u001b[39m    :class:`_orm.Session`.\u001b[39;00m\n\u001b[0;32m   2156\u001b[0m \n\u001b[0;32m   2157\u001b[0m \u001b[39m    \"\"\"\u001b[39;00m\n\u001b[1;32m-> 2159\u001b[0m     \u001b[39mreturn\u001b[39;00m \u001b[39mself\u001b[39m\u001b[39m.\u001b[39m_query_cls(entities, \u001b[39mself\u001b[39m, \u001b[39m*\u001b[39m\u001b[39m*\u001b[39mkwargs)\n",
      "File \u001b[1;32mc:\\Users\\naoki\\anaconda3\\envs\\orm_pra\\lib\\site-packages\\sqlalchemy\\orm\\query.py:180\u001b[0m, in \u001b[0;36mQuery.__init__\u001b[1;34m(self, entities, session)\u001b[0m\n\u001b[0;32m    152\u001b[0m \u001b[39m\"\"\"Construct a :class:`_query.Query` directly.\u001b[39;00m\n\u001b[0;32m    153\u001b[0m \n\u001b[0;32m    154\u001b[0m \u001b[39mE.g.::\u001b[39;00m\n\u001b[1;32m   (...)\u001b[0m\n\u001b[0;32m    176\u001b[0m \n\u001b[0;32m    177\u001b[0m \u001b[39m\"\"\"\u001b[39;00m\n\u001b[0;32m    179\u001b[0m \u001b[39mself\u001b[39m\u001b[39m.\u001b[39msession \u001b[39m=\u001b[39m session\n\u001b[1;32m--> 180\u001b[0m \u001b[39mself\u001b[39;49m\u001b[39m.\u001b[39;49m_set_entities(entities)\n",
      "File \u001b[1;32mc:\\Users\\naoki\\anaconda3\\envs\\orm_pra\\lib\\site-packages\\sqlalchemy\\orm\\query.py:187\u001b[0m, in \u001b[0;36mQuery._set_entities\u001b[1;34m(self, entities)\u001b[0m\n\u001b[0;32m    186\u001b[0m \u001b[39mdef\u001b[39;00m \u001b[39m_set_entities\u001b[39m(\u001b[39mself\u001b[39m, entities):\n\u001b[1;32m--> 187\u001b[0m     \u001b[39mself\u001b[39m\u001b[39m.\u001b[39m_raw_columns \u001b[39m=\u001b[39m [\n\u001b[0;32m    188\u001b[0m         coercions\u001b[39m.\u001b[39mexpect(\n\u001b[0;32m    189\u001b[0m             roles\u001b[39m.\u001b[39mColumnsClauseRole,\n\u001b[0;32m    190\u001b[0m             ent,\n\u001b[0;32m    191\u001b[0m             apply_propagate_attrs\u001b[39m=\u001b[39m\u001b[39mself\u001b[39m,\n\u001b[0;32m    192\u001b[0m             post_inspect\u001b[39m=\u001b[39m\u001b[39mTrue\u001b[39;00m,\n\u001b[0;32m    193\u001b[0m         )\n\u001b[0;32m    194\u001b[0m         \u001b[39mfor\u001b[39;00m ent \u001b[39min\u001b[39;00m util\u001b[39m.\u001b[39mto_list(entities)\n\u001b[0;32m    195\u001b[0m     ]\n",
      "File \u001b[1;32mc:\\Users\\naoki\\anaconda3\\envs\\orm_pra\\lib\\site-packages\\sqlalchemy\\orm\\query.py:188\u001b[0m, in \u001b[0;36m<listcomp>\u001b[1;34m(.0)\u001b[0m\n\u001b[0;32m    186\u001b[0m \u001b[39mdef\u001b[39;00m \u001b[39m_set_entities\u001b[39m(\u001b[39mself\u001b[39m, entities):\n\u001b[0;32m    187\u001b[0m     \u001b[39mself\u001b[39m\u001b[39m.\u001b[39m_raw_columns \u001b[39m=\u001b[39m [\n\u001b[1;32m--> 188\u001b[0m         coercions\u001b[39m.\u001b[39;49mexpect(\n\u001b[0;32m    189\u001b[0m             roles\u001b[39m.\u001b[39;49mColumnsClauseRole,\n\u001b[0;32m    190\u001b[0m             ent,\n\u001b[0;32m    191\u001b[0m             apply_propagate_attrs\u001b[39m=\u001b[39;49m\u001b[39mself\u001b[39;49m,\n\u001b[0;32m    192\u001b[0m             post_inspect\u001b[39m=\u001b[39;49m\u001b[39mTrue\u001b[39;49;00m,\n\u001b[0;32m    193\u001b[0m         )\n\u001b[0;32m    194\u001b[0m         \u001b[39mfor\u001b[39;00m ent \u001b[39min\u001b[39;00m util\u001b[39m.\u001b[39mto_list(entities)\n\u001b[0;32m    195\u001b[0m     ]\n",
      "File \u001b[1;32mc:\\Users\\naoki\\anaconda3\\envs\\orm_pra\\lib\\site-packages\\sqlalchemy\\sql\\coercions.py:188\u001b[0m, in \u001b[0;36mexpect\u001b[1;34m(role, element, apply_propagate_attrs, argname, post_inspect, **kw)\u001b[0m\n\u001b[0;32m    185\u001b[0m                 impl\u001b[39m.\u001b[39m_raise_for_expected(original_element, argname)\n\u001b[0;32m    187\u001b[0m     \u001b[39mif\u001b[39;00m resolved \u001b[39mis\u001b[39;00m \u001b[39mNone\u001b[39;00m:\n\u001b[1;32m--> 188\u001b[0m         resolved \u001b[39m=\u001b[39m impl\u001b[39m.\u001b[39m_literal_coercion(\n\u001b[0;32m    189\u001b[0m             element, argname\u001b[39m=\u001b[39margname, \u001b[39m*\u001b[39m\u001b[39m*\u001b[39mkw\n\u001b[0;32m    190\u001b[0m         )\n\u001b[0;32m    191\u001b[0m \u001b[39melse\u001b[39;00m:\n\u001b[0;32m    192\u001b[0m     resolved \u001b[39m=\u001b[39m element\n",
      "File \u001b[1;32mc:\\Users\\naoki\\anaconda3\\envs\\orm_pra\\lib\\site-packages\\sqlalchemy\\sql\\coercions.py:401\u001b[0m, in \u001b[0;36m_CoerceLiterals._literal_coercion\u001b[1;34m(self, element, argname, **kw)\u001b[0m\n\u001b[0;32m    398\u001b[0m \u001b[39mif\u001b[39;00m \u001b[39mself\u001b[39m\u001b[39m.\u001b[39m_coerce_numerics \u001b[39mand\u001b[39;00m \u001b[39misinstance\u001b[39m(element, (numbers\u001b[39m.\u001b[39mNumber)):\n\u001b[0;32m    399\u001b[0m     \u001b[39mreturn\u001b[39;00m elements\u001b[39m.\u001b[39mColumnClause(\u001b[39mstr\u001b[39m(element), is_literal\u001b[39m=\u001b[39m\u001b[39mTrue\u001b[39;00m)\n\u001b[1;32m--> 401\u001b[0m \u001b[39mself\u001b[39;49m\u001b[39m.\u001b[39;49m_raise_for_expected(element, argname)\n",
      "File \u001b[1;32mc:\\Users\\naoki\\anaconda3\\envs\\orm_pra\\lib\\site-packages\\sqlalchemy\\sql\\coercions.py:437\u001b[0m, in \u001b[0;36m_SelectIsNotFrom._raise_for_expected\u001b[1;34m(self, element, argname, resolved, **kw)\u001b[0m\n\u001b[0;32m    434\u001b[0m \u001b[39melse\u001b[39;00m:\n\u001b[0;32m    435\u001b[0m     advice \u001b[39m=\u001b[39m code \u001b[39m=\u001b[39m \u001b[39mNone\u001b[39;00m\n\u001b[1;32m--> 437\u001b[0m \u001b[39mreturn\u001b[39;00m \u001b[39msuper\u001b[39m(_SelectIsNotFrom, \u001b[39mself\u001b[39m)\u001b[39m.\u001b[39m_raise_for_expected(\n\u001b[0;32m    438\u001b[0m     element,\n\u001b[0;32m    439\u001b[0m     argname\u001b[39m=\u001b[39margname,\n\u001b[0;32m    440\u001b[0m     resolved\u001b[39m=\u001b[39mresolved,\n\u001b[0;32m    441\u001b[0m     advice\u001b[39m=\u001b[39madvice,\n\u001b[0;32m    442\u001b[0m     code\u001b[39m=\u001b[39mcode,\n\u001b[0;32m    443\u001b[0m     \u001b[39m*\u001b[39m\u001b[39m*\u001b[39mkw\n\u001b[0;32m    444\u001b[0m )\n",
      "File \u001b[1;32mc:\\Users\\naoki\\anaconda3\\envs\\orm_pra\\lib\\site-packages\\sqlalchemy\\sql\\coercions.py:283\u001b[0m, in \u001b[0;36mRoleImpl._raise_for_expected\u001b[1;34m(self, element, argname, resolved, advice, code, err)\u001b[0m\n\u001b[0;32m    280\u001b[0m \u001b[39mif\u001b[39;00m advice:\n\u001b[0;32m    281\u001b[0m     msg \u001b[39m+\u001b[39m\u001b[39m=\u001b[39m \u001b[39m\"\u001b[39m\u001b[39m \u001b[39m\u001b[39m\"\u001b[39m \u001b[39m+\u001b[39m advice\n\u001b[1;32m--> 283\u001b[0m util\u001b[39m.\u001b[39;49mraise_(exc\u001b[39m.\u001b[39;49mArgumentError(msg, code\u001b[39m=\u001b[39;49mcode), replace_context\u001b[39m=\u001b[39;49merr)\n",
      "File \u001b[1;32mc:\\Users\\naoki\\anaconda3\\envs\\orm_pra\\lib\\site-packages\\sqlalchemy\\util\\compat.py:208\u001b[0m, in \u001b[0;36mraise_\u001b[1;34m(***failed resolving arguments***)\u001b[0m\n\u001b[0;32m    205\u001b[0m     exception\u001b[39m.\u001b[39m__cause__ \u001b[39m=\u001b[39m replace_context\n\u001b[0;32m    207\u001b[0m \u001b[39mtry\u001b[39;00m:\n\u001b[1;32m--> 208\u001b[0m     \u001b[39mraise\u001b[39;00m exception\n\u001b[0;32m    209\u001b[0m \u001b[39mfinally\u001b[39;00m:\n\u001b[0;32m    210\u001b[0m     \u001b[39m# credit to\u001b[39;00m\n\u001b[0;32m    211\u001b[0m     \u001b[39m# https://cosmicpercolator.com/2016/01/13/exception-leaks-in-python-2-and-3/\u001b[39;00m\n\u001b[0;32m    212\u001b[0m     \u001b[39m# as the __traceback__ object creates a cycle\u001b[39;00m\n\u001b[0;32m    213\u001b[0m     \u001b[39mdel\u001b[39;00m exception, replace_context, from_, with_traceback\n",
      "\u001b[1;31mArgumentError\u001b[0m: Column expression or FROM clause expected, got <class '__main__.Headline_Paths'>."
     ]
    }
   ],
   "source": [
    "headline_paths = session.query(Headline_Paths).limit(10).all()\n"
   ]
  },
  {
   "cell_type": "markdown",
   "metadata": {},
   "source": [
    "# Headline_size"
   ]
  },
  {
   "cell_type": "code",
   "execution_count": 15,
   "metadata": {},
   "outputs": [],
   "source": [
    "class HeadlineSize:\n",
    "    __tablename__ = 'headline_size'\n",
    "    id = Column(Integer)\n",
    "    id.primary_key = True\n",
    "    width = Column(Integer)\n",
    "    height = Column(Integer)"
   ]
  },
  {
   "cell_type": "code",
   "execution_count": 16,
   "metadata": {},
   "outputs": [
    {
     "ename": "ArgumentError",
     "evalue": "Column expression or FROM clause expected, got <class '__main__.HeadlineSize'>.",
     "output_type": "error",
     "traceback": [
      "\u001b[1;31m---------------------------------------------------------------------------\u001b[0m",
      "\u001b[1;31mArgumentError\u001b[0m                             Traceback (most recent call last)",
      "\u001b[1;32mセル17 を d:\\ProgramProject\\sqlalchemy_practice\\KENBUNデータベースのorm化.ipynb\u001b[0m in \u001b[0;36m<cell line: 1>\u001b[1;34m()\u001b[0m\n\u001b[1;32m----> <a href='vscode-notebook-cell:/d%3A/ProgramProject/sqlalchemy_practice/KENBUN%E3%83%87%E3%83%BC%E3%82%BF%E3%83%99%E3%83%BC%E3%82%B9%E3%81%AEorm%E5%8C%96.ipynb#X30sZmlsZQ%3D%3D?line=0'>1</a>\u001b[0m headline_size \u001b[39m=\u001b[39m session\u001b[39m.\u001b[39;49mquery(HeadlineSize)\u001b[39m.\u001b[39mlimit(\u001b[39m10\u001b[39m)\u001b[39m.\u001b[39mall()\n",
      "File \u001b[1;32mc:\\Users\\naoki\\anaconda3\\envs\\orm_pra\\lib\\site-packages\\sqlalchemy\\orm\\session.py:2159\u001b[0m, in \u001b[0;36mSession.query\u001b[1;34m(self, *entities, **kwargs)\u001b[0m\n\u001b[0;32m   2153\u001b[0m \u001b[39mdef\u001b[39;00m \u001b[39mquery\u001b[39m(\u001b[39mself\u001b[39m, \u001b[39m*\u001b[39mentities, \u001b[39m*\u001b[39m\u001b[39m*\u001b[39mkwargs):\n\u001b[0;32m   2154\u001b[0m     \u001b[39m\"\"\"Return a new :class:`_query.Query` object corresponding to this\u001b[39;00m\n\u001b[0;32m   2155\u001b[0m \u001b[39m    :class:`_orm.Session`.\u001b[39;00m\n\u001b[0;32m   2156\u001b[0m \n\u001b[0;32m   2157\u001b[0m \u001b[39m    \"\"\"\u001b[39;00m\n\u001b[1;32m-> 2159\u001b[0m     \u001b[39mreturn\u001b[39;00m \u001b[39mself\u001b[39m\u001b[39m.\u001b[39m_query_cls(entities, \u001b[39mself\u001b[39m, \u001b[39m*\u001b[39m\u001b[39m*\u001b[39mkwargs)\n",
      "File \u001b[1;32mc:\\Users\\naoki\\anaconda3\\envs\\orm_pra\\lib\\site-packages\\sqlalchemy\\orm\\query.py:180\u001b[0m, in \u001b[0;36mQuery.__init__\u001b[1;34m(self, entities, session)\u001b[0m\n\u001b[0;32m    152\u001b[0m \u001b[39m\"\"\"Construct a :class:`_query.Query` directly.\u001b[39;00m\n\u001b[0;32m    153\u001b[0m \n\u001b[0;32m    154\u001b[0m \u001b[39mE.g.::\u001b[39;00m\n\u001b[1;32m   (...)\u001b[0m\n\u001b[0;32m    176\u001b[0m \n\u001b[0;32m    177\u001b[0m \u001b[39m\"\"\"\u001b[39;00m\n\u001b[0;32m    179\u001b[0m \u001b[39mself\u001b[39m\u001b[39m.\u001b[39msession \u001b[39m=\u001b[39m session\n\u001b[1;32m--> 180\u001b[0m \u001b[39mself\u001b[39;49m\u001b[39m.\u001b[39;49m_set_entities(entities)\n",
      "File \u001b[1;32mc:\\Users\\naoki\\anaconda3\\envs\\orm_pra\\lib\\site-packages\\sqlalchemy\\orm\\query.py:187\u001b[0m, in \u001b[0;36mQuery._set_entities\u001b[1;34m(self, entities)\u001b[0m\n\u001b[0;32m    186\u001b[0m \u001b[39mdef\u001b[39;00m \u001b[39m_set_entities\u001b[39m(\u001b[39mself\u001b[39m, entities):\n\u001b[1;32m--> 187\u001b[0m     \u001b[39mself\u001b[39m\u001b[39m.\u001b[39m_raw_columns \u001b[39m=\u001b[39m [\n\u001b[0;32m    188\u001b[0m         coercions\u001b[39m.\u001b[39mexpect(\n\u001b[0;32m    189\u001b[0m             roles\u001b[39m.\u001b[39mColumnsClauseRole,\n\u001b[0;32m    190\u001b[0m             ent,\n\u001b[0;32m    191\u001b[0m             apply_propagate_attrs\u001b[39m=\u001b[39m\u001b[39mself\u001b[39m,\n\u001b[0;32m    192\u001b[0m             post_inspect\u001b[39m=\u001b[39m\u001b[39mTrue\u001b[39;00m,\n\u001b[0;32m    193\u001b[0m         )\n\u001b[0;32m    194\u001b[0m         \u001b[39mfor\u001b[39;00m ent \u001b[39min\u001b[39;00m util\u001b[39m.\u001b[39mto_list(entities)\n\u001b[0;32m    195\u001b[0m     ]\n",
      "File \u001b[1;32mc:\\Users\\naoki\\anaconda3\\envs\\orm_pra\\lib\\site-packages\\sqlalchemy\\orm\\query.py:188\u001b[0m, in \u001b[0;36m<listcomp>\u001b[1;34m(.0)\u001b[0m\n\u001b[0;32m    186\u001b[0m \u001b[39mdef\u001b[39;00m \u001b[39m_set_entities\u001b[39m(\u001b[39mself\u001b[39m, entities):\n\u001b[0;32m    187\u001b[0m     \u001b[39mself\u001b[39m\u001b[39m.\u001b[39m_raw_columns \u001b[39m=\u001b[39m [\n\u001b[1;32m--> 188\u001b[0m         coercions\u001b[39m.\u001b[39;49mexpect(\n\u001b[0;32m    189\u001b[0m             roles\u001b[39m.\u001b[39;49mColumnsClauseRole,\n\u001b[0;32m    190\u001b[0m             ent,\n\u001b[0;32m    191\u001b[0m             apply_propagate_attrs\u001b[39m=\u001b[39;49m\u001b[39mself\u001b[39;49m,\n\u001b[0;32m    192\u001b[0m             post_inspect\u001b[39m=\u001b[39;49m\u001b[39mTrue\u001b[39;49;00m,\n\u001b[0;32m    193\u001b[0m         )\n\u001b[0;32m    194\u001b[0m         \u001b[39mfor\u001b[39;00m ent \u001b[39min\u001b[39;00m util\u001b[39m.\u001b[39mto_list(entities)\n\u001b[0;32m    195\u001b[0m     ]\n",
      "File \u001b[1;32mc:\\Users\\naoki\\anaconda3\\envs\\orm_pra\\lib\\site-packages\\sqlalchemy\\sql\\coercions.py:188\u001b[0m, in \u001b[0;36mexpect\u001b[1;34m(role, element, apply_propagate_attrs, argname, post_inspect, **kw)\u001b[0m\n\u001b[0;32m    185\u001b[0m                 impl\u001b[39m.\u001b[39m_raise_for_expected(original_element, argname)\n\u001b[0;32m    187\u001b[0m     \u001b[39mif\u001b[39;00m resolved \u001b[39mis\u001b[39;00m \u001b[39mNone\u001b[39;00m:\n\u001b[1;32m--> 188\u001b[0m         resolved \u001b[39m=\u001b[39m impl\u001b[39m.\u001b[39m_literal_coercion(\n\u001b[0;32m    189\u001b[0m             element, argname\u001b[39m=\u001b[39margname, \u001b[39m*\u001b[39m\u001b[39m*\u001b[39mkw\n\u001b[0;32m    190\u001b[0m         )\n\u001b[0;32m    191\u001b[0m \u001b[39melse\u001b[39;00m:\n\u001b[0;32m    192\u001b[0m     resolved \u001b[39m=\u001b[39m element\n",
      "File \u001b[1;32mc:\\Users\\naoki\\anaconda3\\envs\\orm_pra\\lib\\site-packages\\sqlalchemy\\sql\\coercions.py:401\u001b[0m, in \u001b[0;36m_CoerceLiterals._literal_coercion\u001b[1;34m(self, element, argname, **kw)\u001b[0m\n\u001b[0;32m    398\u001b[0m \u001b[39mif\u001b[39;00m \u001b[39mself\u001b[39m\u001b[39m.\u001b[39m_coerce_numerics \u001b[39mand\u001b[39;00m \u001b[39misinstance\u001b[39m(element, (numbers\u001b[39m.\u001b[39mNumber)):\n\u001b[0;32m    399\u001b[0m     \u001b[39mreturn\u001b[39;00m elements\u001b[39m.\u001b[39mColumnClause(\u001b[39mstr\u001b[39m(element), is_literal\u001b[39m=\u001b[39m\u001b[39mTrue\u001b[39;00m)\n\u001b[1;32m--> 401\u001b[0m \u001b[39mself\u001b[39;49m\u001b[39m.\u001b[39;49m_raise_for_expected(element, argname)\n",
      "File \u001b[1;32mc:\\Users\\naoki\\anaconda3\\envs\\orm_pra\\lib\\site-packages\\sqlalchemy\\sql\\coercions.py:437\u001b[0m, in \u001b[0;36m_SelectIsNotFrom._raise_for_expected\u001b[1;34m(self, element, argname, resolved, **kw)\u001b[0m\n\u001b[0;32m    434\u001b[0m \u001b[39melse\u001b[39;00m:\n\u001b[0;32m    435\u001b[0m     advice \u001b[39m=\u001b[39m code \u001b[39m=\u001b[39m \u001b[39mNone\u001b[39;00m\n\u001b[1;32m--> 437\u001b[0m \u001b[39mreturn\u001b[39;00m \u001b[39msuper\u001b[39m(_SelectIsNotFrom, \u001b[39mself\u001b[39m)\u001b[39m.\u001b[39m_raise_for_expected(\n\u001b[0;32m    438\u001b[0m     element,\n\u001b[0;32m    439\u001b[0m     argname\u001b[39m=\u001b[39margname,\n\u001b[0;32m    440\u001b[0m     resolved\u001b[39m=\u001b[39mresolved,\n\u001b[0;32m    441\u001b[0m     advice\u001b[39m=\u001b[39madvice,\n\u001b[0;32m    442\u001b[0m     code\u001b[39m=\u001b[39mcode,\n\u001b[0;32m    443\u001b[0m     \u001b[39m*\u001b[39m\u001b[39m*\u001b[39mkw\n\u001b[0;32m    444\u001b[0m )\n",
      "File \u001b[1;32mc:\\Users\\naoki\\anaconda3\\envs\\orm_pra\\lib\\site-packages\\sqlalchemy\\sql\\coercions.py:283\u001b[0m, in \u001b[0;36mRoleImpl._raise_for_expected\u001b[1;34m(self, element, argname, resolved, advice, code, err)\u001b[0m\n\u001b[0;32m    280\u001b[0m \u001b[39mif\u001b[39;00m advice:\n\u001b[0;32m    281\u001b[0m     msg \u001b[39m+\u001b[39m\u001b[39m=\u001b[39m \u001b[39m\"\u001b[39m\u001b[39m \u001b[39m\u001b[39m\"\u001b[39m \u001b[39m+\u001b[39m advice\n\u001b[1;32m--> 283\u001b[0m util\u001b[39m.\u001b[39;49mraise_(exc\u001b[39m.\u001b[39;49mArgumentError(msg, code\u001b[39m=\u001b[39;49mcode), replace_context\u001b[39m=\u001b[39;49merr)\n",
      "File \u001b[1;32mc:\\Users\\naoki\\anaconda3\\envs\\orm_pra\\lib\\site-packages\\sqlalchemy\\util\\compat.py:208\u001b[0m, in \u001b[0;36mraise_\u001b[1;34m(***failed resolving arguments***)\u001b[0m\n\u001b[0;32m    205\u001b[0m     exception\u001b[39m.\u001b[39m__cause__ \u001b[39m=\u001b[39m replace_context\n\u001b[0;32m    207\u001b[0m \u001b[39mtry\u001b[39;00m:\n\u001b[1;32m--> 208\u001b[0m     \u001b[39mraise\u001b[39;00m exception\n\u001b[0;32m    209\u001b[0m \u001b[39mfinally\u001b[39;00m:\n\u001b[0;32m    210\u001b[0m     \u001b[39m# credit to\u001b[39;00m\n\u001b[0;32m    211\u001b[0m     \u001b[39m# https://cosmicpercolator.com/2016/01/13/exception-leaks-in-python-2-and-3/\u001b[39;00m\n\u001b[0;32m    212\u001b[0m     \u001b[39m# as the __traceback__ object creates a cycle\u001b[39;00m\n\u001b[0;32m    213\u001b[0m     \u001b[39mdel\u001b[39;00m exception, replace_context, from_, with_traceback\n",
      "\u001b[1;31mArgumentError\u001b[0m: Column expression or FROM clause expected, got <class '__main__.HeadlineSize'>."
     ]
    }
   ],
   "source": [
    "headline_size = session.query(HeadlineSize).limit(10).all()"
   ]
  },
  {
   "cell_type": "markdown",
   "metadata": {},
   "source": [
    "## なんやこのエラー..."
   ]
  },
  {
   "cell_type": "markdown",
   "metadata": {},
   "source": [
    "これデータベースの再設計した方がいいかも"
   ]
  },
  {
   "cell_type": "markdown",
   "metadata": {},
   "source": []
  }
 ],
 "metadata": {
  "kernelspec": {
   "display_name": "Python 3.10.4 ('orm_pra')",
   "language": "python",
   "name": "python3"
  },
  "language_info": {
   "codemirror_mode": {
    "name": "ipython",
    "version": 3
   },
   "file_extension": ".py",
   "mimetype": "text/x-python",
   "name": "python",
   "nbconvert_exporter": "python",
   "pygments_lexer": "ipython3",
   "version": "3.10.4"
  },
  "orig_nbformat": 4,
  "vscode": {
   "interpreter": {
    "hash": "2138883cad8223e91f46e8d43bb01c8b3efb920270b9a928f8bb65fb295feddd"
   }
  }
 },
 "nbformat": 4,
 "nbformat_minor": 2
}
