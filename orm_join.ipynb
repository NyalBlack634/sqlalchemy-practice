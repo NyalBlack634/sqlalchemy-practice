{
 "cells": [
  {
   "cell_type": "code",
   "execution_count": 1,
   "metadata": {},
   "outputs": [],
   "source": [
    "from sqlalchemy.ext.declarative import declarative_base\n",
    "from sqlalchemy import Column, Integer, String\n",
    "from sqlalchemy import create_engine\n",
    "from sqlalchemy.orm import sessionmaker\n",
    "from sqlalchemy import ForeignKey\n"
   ]
  },
  {
   "cell_type": "code",
   "execution_count": 2,
   "metadata": {},
   "outputs": [],
   "source": [
    "# DB接続\n",
    "engine = create_engine('sqlite:///test.db')"
   ]
  },
  {
   "cell_type": "code",
   "execution_count": 3,
   "metadata": {},
   "outputs": [],
   "source": [
    "# Base\n",
    "Base = declarative_base()"
   ]
  },
  {
   "cell_type": "code",
   "execution_count": 4,
   "metadata": {},
   "outputs": [
    {
     "data": {
      "text/plain": [
       "sqlalchemy.orm.decl_api.DeclarativeMeta"
      ]
     },
     "execution_count": 4,
     "metadata": {},
     "output_type": "execute_result"
    }
   ],
   "source": [
    "type(Base)"
   ]
  },
  {
   "cell_type": "code",
   "execution_count": 5,
   "metadata": {},
   "outputs": [],
   "source": [
    "# テーブルクラス定義\n",
    "class User(Base):\n",
    "    \"\"\"Usersテーブル\n",
    "\n",
    "    Args:\n",
    "        Base (sqlalchemy.orm.decl_api.DeclarativeMeta): ormのベース\n",
    "    \"\"\"\n",
    "\n",
    "    # テーブル名\n",
    "    __tablename__ = 'users'\n",
    "\n",
    "    # 個々のカラムを定義\n",
    "    id = Column(Integer, primary_key=True)\n",
    "    name = Column(String)\n",
    "    age = Column(Integer)"
   ]
  },
  {
   "cell_type": "code",
   "execution_count": 6,
   "metadata": {},
   "outputs": [],
   "source": [
    "class Post(Base):\n",
    "    \"\"\"Postテーブル\n",
    "\n",
    "    Args:\n",
    "        Base (sqlalchemy.orm.decl_api.DeclarativeMeta): ormのベース\n",
    "    \"\"\"\n",
    "\n",
    "    # テーブル名\n",
    "    __tablename__ = 'posts'\n",
    "\n",
    "    # 個々のカラムを定義\n",
    "    id = Column(Integer, primary_key=True)\n",
    "    users_id = Column(Integer, ForeignKey('users.id'))\n",
    "    title = Column(String)\n",
    "    body = Column(Integer)"
   ]
  },
  {
   "cell_type": "code",
   "execution_count": 7,
   "metadata": {},
   "outputs": [],
   "source": [
    "# テーブルクラスのテーブルを生成\n",
    "Base.metadata.create_all(engine)"
   ]
  },
  {
   "cell_type": "code",
   "execution_count": 8,
   "metadata": {},
   "outputs": [],
   "source": [
    "# セッション生成\n",
    "Session = sessionmaker(bind=engine)\n",
    "session = Session()"
   ]
  },
  {
   "cell_type": "code",
   "execution_count": 9,
   "metadata": {},
   "outputs": [],
   "source": [
    "# サンプルデータ挿入\n",
    "session.add(User(id=1, name=\"Suzuki\", age=19))\n",
    "session.add(User(id=2, name=\"Tanaka\", age=21))\n",
    "session.add(User(id=3, name=\"Sato\", age=21))\n",
    "\n",
    "session.add(Post(users_id=1, title=\"朝の体操\", body=\"ラジオ体操で元気いっぱい\"))\n",
    "session.add(Post(users_id=1, title=\"今日の夕食\", body=\"カレーラスがとても美味しかった。\"))\n",
    "session.add(Post(users_id=2, title=\"仕事\", body=\"今日はDjangoでAPI作成。\"))\n",
    "session.add(Post(users_id=2, title=\"Python楽しい\", body=\"Python楽しいですよね！！\"))\n",
    "session.commit()\n"
   ]
  },
  {
   "cell_type": "code",
   "execution_count": 10,
   "metadata": {},
   "outputs": [
    {
     "name": "stdout",
     "output_type": "stream",
     "text": [
      "Suzukiさんの投稿 タイトル: 朝の体操\n",
      "Suzukiさんの投稿 タイトル: 今日の夕食\n",
      "Tanakaさんの投稿 タイトル: 仕事\n",
      "Tanakaさんの投稿 タイトル: Python楽しい\n"
     ]
    }
   ],
   "source": [
    "# inner joinのサンプル\n",
    "users_posts = session.query(User, Post).join(\n",
    "    Post, User.id == Post.users_id).all()\n",
    "\n",
    "for user_post in users_posts:\n",
    "    print(f'{user_post.User.name}さんの投稿 タイトル: {user_post.Post.title}')\n"
   ]
  },
  {
   "cell_type": "code",
   "execution_count": 11,
   "metadata": {},
   "outputs": [
    {
     "name": "stdout",
     "output_type": "stream",
     "text": [
      "Suzukiさんの投稿 タイトル: 今日の夕食\n",
      "Suzukiさんの投稿 タイトル: 朝の体操\n",
      "Tanakaさんの投稿 タイトル: Python楽しい\n",
      "Tanakaさんの投稿 タイトル: 仕事\n",
      "Satoさんの投稿 なし\n"
     ]
    }
   ],
   "source": [
    "# left outer joinのサンプル\n",
    "users_posts = session.query(User, Post).outerjoin(\n",
    "    Post, User.id == Post.users_id).all()\n",
    "\n",
    "for user_post in users_posts:\n",
    "    if user_post.Post is not None:\n",
    "        print(f'{user_post.User.name}さんの投稿 タイトル: {user_post.Post.title}')\n",
    "    else:\n",
    "        print(f'{user_post.User.name}さんの投稿 なし')"
   ]
  },
  {
   "cell_type": "code",
   "execution_count": null,
   "metadata": {},
   "outputs": [],
   "source": []
  }
 ],
 "metadata": {
  "kernelspec": {
   "display_name": "Python 3.10.4 ('orm_pra')",
   "language": "python",
   "name": "python3"
  },
  "language_info": {
   "codemirror_mode": {
    "name": "ipython",
    "version": 3
   },
   "file_extension": ".py",
   "mimetype": "text/x-python",
   "name": "python",
   "nbconvert_exporter": "python",
   "pygments_lexer": "ipython3",
   "version": "3.10.4"
  },
  "orig_nbformat": 4,
  "vscode": {
   "interpreter": {
    "hash": "2138883cad8223e91f46e8d43bb01c8b3efb920270b9a928f8bb65fb295feddd"
   }
  }
 },
 "nbformat": 4,
 "nbformat_minor": 2
}
