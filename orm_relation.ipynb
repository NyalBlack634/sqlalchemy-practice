{
 "cells": [
  {
   "cell_type": "code",
   "execution_count": 4,
   "metadata": {},
   "outputs": [],
   "source": [
    "from sqlalchemy import Table, Column, Integer, String, ForeignKey\n",
    "from sqlalchemy.orm import relationship\n",
    "from sqlalchemy.ext.declarative import declarative_base\n",
    "from sqlalchemy import create_engine\n",
    "from sqlalchemy.orm import sessionmaker"
   ]
  },
  {
   "cell_type": "code",
   "execution_count": 2,
   "metadata": {},
   "outputs": [],
   "source": [
    "# DB接続\n",
    "engine = create_engine('sqlite:///test.db')\n",
    "\n",
    "Base = declarative_base()"
   ]
  },
  {
   "cell_type": "code",
   "execution_count": 3,
   "metadata": {},
   "outputs": [],
   "source": [
    "class User(Base):\n",
    "    __tablename__ = 'users'\n",
    "    id = Column(Integer)\n",
    "    id.primary_key=True\n",
    "    name = Column(String)\n",
    "    age = Column(Integer)\n",
    "    \n",
    "    # Postとのリレーション\n",
    "    posts = relationship('Post', backref='users')"
   ]
  },
  {
   "cell_type": "code",
   "execution_count": 5,
   "metadata": {},
   "outputs": [],
   "source": [
    "class Post(Base):\n",
    "    __tablename__ = 'posts'\n",
    "    id = Column(Integer)\n",
    "    id.primary_key = True\n",
    "    users_id = Column(Integer, ForeignKey('users.id'))\n",
    "    title = Column(String)\n",
    "    body = Column(Integer)\n",
    "\n",
    "    # Userとのリレーション\n",
    "    user = relationship('User')\n"
   ]
  },
  {
   "cell_type": "code",
   "execution_count": 6,
   "metadata": {},
   "outputs": [],
   "source": [
    "Base.metadata.create_all(engine)"
   ]
  },
  {
   "cell_type": "code",
   "execution_count": 7,
   "metadata": {},
   "outputs": [],
   "source": [
    "# セッションの生成\n",
    "Session = sessionmaker(bind=engine)\n",
    "session = Session()"
   ]
  },
  {
   "cell_type": "code",
   "execution_count": 8,
   "metadata": {},
   "outputs": [
    {
     "name": "stderr",
     "output_type": "stream",
     "text": [
      "C:\\Users\\naoki\\AppData\\Local\\Temp\\ipykernel_17276\\8331238.py:2: SAWarning: relationship 'Post.user' will copy column users.id to column posts.users_id, which conflicts with relationship(s): 'Post.users' (copies users.id to posts.users_id), 'User.posts' (copies users.id to posts.users_id). If this is not the intention, consider if these relationships should be linked with back_populates, or if viewonly=True should be applied to one or more if they are read-only. For the less common case that foreign key constraints are partially overlapping, the orm.foreign() annotation can be used to isolate the columns that should be written towards.   To silence this warning, add the parameter 'overlaps=\"posts,users\"' to the 'Post.user' relationship. (Background on this error at: https://sqlalche.me/e/14/qzyx)\n",
      "  session.add(User(id=1, name=\"Suzuki\", age=19))\n"
     ]
    }
   ],
   "source": [
    "# サンプルデータ挿入\n",
    "session.add(User(id=1, name=\"Suzuki\", age=19))\n",
    "session.add(User(id=2, name=\"Tanaka\", age=21))\n",
    "session.add(User(id=3, name=\"Sato\", age=21))\n",
    "\n",
    "session.add(Post(users_id=1, title=\"朝の体操\", body=\"ラジオ体操で元気いっぱい\"))\n",
    "session.add(Post(users_id=1, title=\"今日の夕食\", body=\"カレーラスがとても美味しかった。\"))\n",
    "session.add(Post(users_id=2, title=\"仕事\", body=\"今日はDjangoでAPI作成。\"))\n",
    "session.add(Post(users_id=2, title=\"Python楽しい\", body=\"Python楽しいですよね！！\"))\n",
    "session.commit()\n"
   ]
  },
  {
   "cell_type": "code",
   "execution_count": 9,
   "metadata": {},
   "outputs": [],
   "source": [
    "# inner joinのサンプル\n",
    "users = session.query(User).join(Post, User.id == Post.users_id).all()"
   ]
  },
  {
   "cell_type": "code",
   "execution_count": 10,
   "metadata": {},
   "outputs": [
    {
     "name": "stdout",
     "output_type": "stream",
     "text": [
      "Suzukiさんの投稿\n",
      "|- タイトル: 朝の体操\n",
      "|- タイトル: 今日の夕食\n",
      "|- タイトル: 朝の体操\n",
      "|- タイトル: 今日の夕食\n",
      "\n",
      "Tanakaさんの投稿\n",
      "|- タイトル: 仕事\n",
      "|- タイトル: Python楽しい\n",
      "|- タイトル: 仕事\n",
      "|- タイトル: Python楽しい\n",
      "\n"
     ]
    }
   ],
   "source": [
    "for user in users:\n",
    "    print(f'{user.name}さんの投稿')\n",
    "    for post in user.posts:\n",
    "        print(f\"|- タイトル: {post.title}\")\n",
    "    print()"
   ]
  },
  {
   "cell_type": "code",
   "execution_count": 11,
   "metadata": {},
   "outputs": [
    {
     "name": "stdout",
     "output_type": "stream",
     "text": [
      "{'_sa_instance_state': <sqlalchemy.orm.state.InstanceState object at 0x000001B12038F850>,\n",
      " 'age': 19,\n",
      " 'id': 1,\n",
      " 'name': 'Suzuki',\n",
      " 'posts': [<__main__.Post object at 0x000001B12038CC10>,\n",
      "           <__main__.Post object at 0x000001B12038CB80>,\n",
      "           <__main__.Post object at 0x000001B12038D360>,\n",
      "           <__main__.Post object at 0x000001B12038DF60>]}\n"
     ]
    }
   ],
   "source": [
    "import pprint\n",
    "# inner joinのサンプル\n",
    "users = session.query(User).join(Post, User.id == Post.users_id).all()\n",
    "\n",
    "user = users[0]\n",
    "\n",
    "pprint.pprint(vars(user))\n"
   ]
  },
  {
   "cell_type": "code",
   "execution_count": null,
   "metadata": {},
   "outputs": [],
   "source": []
  }
 ],
 "metadata": {
  "kernelspec": {
   "display_name": "Python 3.10.4 ('orm_pra')",
   "language": "python",
   "name": "python3"
  },
  "language_info": {
   "codemirror_mode": {
    "name": "ipython",
    "version": 3
   },
   "file_extension": ".py",
   "mimetype": "text/x-python",
   "name": "python",
   "nbconvert_exporter": "python",
   "pygments_lexer": "ipython3",
   "version": "3.10.4"
  },
  "orig_nbformat": 4,
  "vscode": {
   "interpreter": {
    "hash": "2138883cad8223e91f46e8d43bb01c8b3efb920270b9a928f8bb65fb295feddd"
   }
  }
 },
 "nbformat": 4,
 "nbformat_minor": 2
}
