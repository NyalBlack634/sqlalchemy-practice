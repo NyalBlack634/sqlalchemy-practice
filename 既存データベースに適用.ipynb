{
 "cells": [
  {
   "cell_type": "code",
   "execution_count": 50,
   "metadata": {},
   "outputs": [],
   "source": [
    "from sqlalchemy import Table, Column, Integer, String, ForeignKey\n",
    "from sqlalchemy.orm import relationship\n",
    "from sqlalchemy.ext.declarative import declarative_base\n",
    "from sqlalchemy import create_engine\n",
    "from sqlalchemy.orm import sessionmaker\n"
   ]
  },
  {
   "cell_type": "code",
   "execution_count": 51,
   "metadata": {},
   "outputs": [],
   "source": [
    "# DB接続\n",
    "engine = create_engine('sqlite:///test.db')\n",
    "\n",
    "Base = declarative_base()\n"
   ]
  },
  {
   "cell_type": "code",
   "execution_count": 52,
   "metadata": {},
   "outputs": [
    {
     "name": "stdout",
     "output_type": "stream",
     "text": [
      "MetaData()\n"
     ]
    }
   ],
   "source": [
    "import pprint\n",
    "\n",
    "pprint.pprint(Base.metadata)"
   ]
  },
  {
   "cell_type": "code",
   "execution_count": 53,
   "metadata": {},
   "outputs": [],
   "source": [
    "Base.metadata.create_all(engine)\n"
   ]
  },
  {
   "cell_type": "code",
   "execution_count": 54,
   "metadata": {},
   "outputs": [],
   "source": [
    "# セッションの生成\n",
    "Session = sessionmaker(bind=engine)\n",
    "session = Session()\n"
   ]
  },
  {
   "cell_type": "code",
   "execution_count": 55,
   "metadata": {},
   "outputs": [],
   "source": [
    "from sqlalchemy import MetaData"
   ]
  },
  {
   "cell_type": "code",
   "execution_count": 56,
   "metadata": {},
   "outputs": [],
   "source": [
    "meta = MetaData(engine)\n",
    "meta.reflect()"
   ]
  },
  {
   "cell_type": "code",
   "execution_count": 57,
   "metadata": {},
   "outputs": [
    {
     "name": "stdout",
     "output_type": "stream",
     "text": [
      "{'_bind': Engine(sqlite:///test.db),\n",
      " '_fk_memos': defaultdict(<class 'list'>,\n",
      "                          {('users', 'id'): [ForeignKey('users.id')]}),\n",
      " '_schemas': set(),\n",
      " '_sequences': {},\n",
      " 'dispatch': <sqlalchemy.event.base.DDLEventsDispatch object at 0x0000016DC55042C0>,\n",
      " 'naming_convention': immutabledict({'ix': 'ix_%(column_0_label)s'}),\n",
      " 'schema': None,\n",
      " 'tables': FacadeDict({'posts': Table('posts', MetaData(bind=Engine(sqlite:///test.db)), Column('id', INTEGER(), table=<posts>, primary_key=True, nullable=False), Column('users_id', INTEGER(), ForeignKey('users.id'), table=<posts>), Column('title', VARCHAR(), table=<posts>), Column('body', INTEGER(), table=<posts>), schema=None), 'users': Table('users', MetaData(bind=Engine(sqlite:///test.db)), Column('id', INTEGER(), table=<users>, primary_key=True), Column('name', VARCHAR(), table=<users>), Column('age', INTEGER(), table=<users>), schema=None)})}\n"
     ]
    }
   ],
   "source": [
    "pprint.pprint(vars(meta)) # これで中身を確かめて自力でclassを作る？\n"
   ]
  },
  {
   "cell_type": "code",
   "execution_count": 58,
   "metadata": {},
   "outputs": [],
   "source": [
    "# User\n",
    "class User(Base):\n",
    "    __tablename__ = 'users'\n",
    "    id = Column(Integer)\n",
    "    id.primary_key = True\n",
    "    name = Column(String)\n",
    "    age = Column(Integer)\n",
    "\n",
    "    posts = relationship('Post', backref='users')"
   ]
  },
  {
   "cell_type": "code",
   "execution_count": 60,
   "metadata": {},
   "outputs": [],
   "source": [
    "# まずはPostから\n",
    "class Post(Base):\n",
    "    __tablename__ = 'posts'\n",
    "    id = Column(Integer)\n",
    "    id.primary_key = True\n",
    "    users_id = Column(Integer, ForeignKey('users.id'))\n",
    "    title = Column(String)\n",
    "    body = Column(Integer)\n",
    "\n",
    "    user = relationship('User')"
   ]
  },
  {
   "cell_type": "code",
   "execution_count": 61,
   "metadata": {},
   "outputs": [],
   "source": [
    "# セッションの生成\n",
    "Session = sessionmaker(bind=engine)\n",
    "session = Session()\n"
   ]
  },
  {
   "cell_type": "code",
   "execution_count": 62,
   "metadata": {},
   "outputs": [],
   "source": [
    "session.commit()\n"
   ]
  },
  {
   "cell_type": "code",
   "execution_count": 63,
   "metadata": {},
   "outputs": [
    {
     "name": "stderr",
     "output_type": "stream",
     "text": [
      "C:\\Users\\naoki\\AppData\\Local\\Temp\\ipykernel_19872\\2938513795.py:2: SAWarning: relationship 'Post.user' will copy column users.id to column posts.users_id, which conflicts with relationship(s): 'Post.users' (copies users.id to posts.users_id), 'User.posts' (copies users.id to posts.users_id). If this is not the intention, consider if these relationships should be linked with back_populates, or if viewonly=True should be applied to one or more if they are read-only. For the less common case that foreign key constraints are partially overlapping, the orm.foreign() annotation can be used to isolate the columns that should be written towards.   To silence this warning, add the parameter 'overlaps=\"posts,users\"' to the 'Post.user' relationship. (Background on this error at: https://sqlalche.me/e/14/qzyx)\n",
      "  users = session.query(User).join(Post, User.id == Post.users_id).all()\n"
     ]
    }
   ],
   "source": [
    "# inner joinのサンプル\n",
    "users = session.query(User).join(Post, User.id == Post.users_id).all()\n"
   ]
  },
  {
   "cell_type": "code",
   "execution_count": 64,
   "metadata": {},
   "outputs": [
    {
     "name": "stdout",
     "output_type": "stream",
     "text": [
      "[<__main__.User object at 0x0000016DC62662F0>,\n",
      " <__main__.User object at 0x0000016DC6264C70>]\n"
     ]
    }
   ],
   "source": [
    "pprint.pprint(users)"
   ]
  },
  {
   "cell_type": "code",
   "execution_count": 65,
   "metadata": {},
   "outputs": [
    {
     "name": "stdout",
     "output_type": "stream",
     "text": [
      "{'_sa_instance_state': <sqlalchemy.orm.state.InstanceState object at 0x0000016DC6264BB0>,\n",
      " 'age': 19,\n",
      " 'id': 1,\n",
      " 'name': 'Suzuki'}\n"
     ]
    }
   ],
   "source": [
    "user = users[0]\n",
    "\n",
    "pprint.pprint(vars(user))"
   ]
  },
  {
   "cell_type": "code",
   "execution_count": 66,
   "metadata": {},
   "outputs": [
    {
     "name": "stdout",
     "output_type": "stream",
     "text": [
      "Suzukiさんの投稿\n",
      "|- タイトル: 朝の体操\n",
      "|- タイトル: 今日の夕食\n",
      "|- タイトル: 朝の体操\n",
      "|- タイトル: 今日の夕食\n",
      "\n",
      "Tanakaさんの投稿\n",
      "|- タイトル: 仕事\n",
      "|- タイトル: Python楽しい\n",
      "|- タイトル: 仕事\n",
      "|- タイトル: Python楽しい\n",
      "\n"
     ]
    }
   ],
   "source": [
    "for user in users:\n",
    "    print(f'{user.name}さんの投稿')\n",
    "    for post in user.posts:\n",
    "        print(f\"|- タイトル: {post.title}\")\n",
    "    print()\n"
   ]
  },
  {
   "cell_type": "code",
   "execution_count": 67,
   "metadata": {},
   "outputs": [
    {
     "name": "stdout",
     "output_type": "stream",
     "text": [
      "Suzukiさんの投稿 タイトル: 今日の夕食\n",
      "Suzukiさんの投稿 タイトル: 今日の夕食\n",
      "Suzukiさんの投稿 タイトル: 朝の体操\n",
      "Suzukiさんの投稿 タイトル: 朝の体操\n",
      "Tanakaさんの投稿 タイトル: Python楽しい\n",
      "Tanakaさんの投稿 タイトル: Python楽しい\n",
      "Tanakaさんの投稿 タイトル: 仕事\n",
      "Tanakaさんの投稿 タイトル: 仕事\n",
      "Satoさんの投稿 なし\n"
     ]
    }
   ],
   "source": [
    "# left outer joinのサンプル\n",
    "users_posts = session.query(User, Post).outerjoin(\n",
    "    Post, User.id == Post.users_id).all()\n",
    "\n",
    "for user_post in users_posts:\n",
    "    if user_post.Post is not None:\n",
    "        print(f'{user_post.User.name}さんの投稿 タイトル: {user_post.Post.title}')\n",
    "    else:\n",
    "        print(f'{user_post.User.name}さんの投稿 なし')\n"
   ]
  },
  {
   "cell_type": "code",
   "execution_count": null,
   "metadata": {},
   "outputs": [],
   "source": []
  }
 ],
 "metadata": {
  "kernelspec": {
   "display_name": "Python 3.10.4 ('orm_pra')",
   "language": "python",
   "name": "python3"
  },
  "language_info": {
   "codemirror_mode": {
    "name": "ipython",
    "version": 3
   },
   "file_extension": ".py",
   "mimetype": "text/x-python",
   "name": "python",
   "nbconvert_exporter": "python",
   "pygments_lexer": "ipython3",
   "version": "3.10.4"
  },
  "orig_nbformat": 4,
  "vscode": {
   "interpreter": {
    "hash": "2138883cad8223e91f46e8d43bb01c8b3efb920270b9a928f8bb65fb295feddd"
   }
  }
 },
 "nbformat": 4,
 "nbformat_minor": 2
}
