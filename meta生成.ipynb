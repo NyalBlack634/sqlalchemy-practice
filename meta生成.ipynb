{
 "cells": [
  {
   "cell_type": "code",
   "execution_count": 12,
   "metadata": {},
   "outputs": [],
   "source": [
    "from sqlalchemy import MetaData, create_engine"
   ]
  },
  {
   "cell_type": "code",
   "execution_count": 13,
   "metadata": {},
   "outputs": [],
   "source": [
    "engine = create_engine('sqlite:///test.db')"
   ]
  },
  {
   "cell_type": "code",
   "execution_count": 2,
   "metadata": {},
   "outputs": [],
   "source": [
    "engine = create_engine('sqlite:///test.db')"
   ]
  },
  {
   "cell_type": "code",
   "execution_count": 14,
   "metadata": {},
   "outputs": [],
   "source": [
    "meta = MetaData(engine)\n"
   ]
  },
  {
   "cell_type": "code",
   "execution_count": 15,
   "metadata": {},
   "outputs": [],
   "source": [
    "meta.reflect() # 今はメソッドでやる？"
   ]
  },
  {
   "cell_type": "code",
   "execution_count": 5,
   "metadata": {},
   "outputs": [
    {
     "name": "stdout",
     "output_type": "stream",
     "text": [
      "MetaData(bind=Engine(sqlite:///test.db))\n"
     ]
    }
   ],
   "source": [
    "print(meta)"
   ]
  },
  {
   "cell_type": "code",
   "execution_count": 6,
   "metadata": {},
   "outputs": [
    {
     "name": "stdout",
     "output_type": "stream",
     "text": [
      "{'tables': FacadeDict({'Users': Table('Users', MetaData(bind=Engine(sqlite:///test.db)), Column('id', INTEGER(), table=<Users>, primary_key=True, nullable=False), Column('name', VARCHAR(), table=<Users>), Column('age', INTEGER(), table=<Users>), schema=None)}), 'schema': None, 'naming_convention': immutabledict({'ix': 'ix_%(column_0_label)s'}), '_schemas': set(), '_sequences': {}, '_fk_memos': defaultdict(<class 'list'>, {}), '_bind': Engine(sqlite:///test.db), 'dispatch': <sqlalchemy.event.base.DDLEventsDispatch object at 0x0000025EEE3F8B40>}\n"
     ]
    }
   ],
   "source": [
    "print(vars(meta))"
   ]
  },
  {
   "cell_type": "code",
   "execution_count": 7,
   "metadata": {},
   "outputs": [
    {
     "name": "stdout",
     "output_type": "stream",
     "text": [
      "Users.id\n",
      "Users.name\n",
      "Users.age\n"
     ]
    }
   ],
   "source": [
    "# Usersテーブルのカラムの確認\n",
    "for col in meta.tables['Users'].columns:\n",
    "    print(col)"
   ]
  },
  {
   "cell_type": "code",
   "execution_count": 8,
   "metadata": {},
   "outputs": [],
   "source": [
    "users = meta.tables['Users']"
   ]
  },
  {
   "cell_type": "code",
   "execution_count": 16,
   "metadata": {},
   "outputs": [
    {
     "name": "stdout",
     "output_type": "stream",
     "text": [
      "(1, 'Suzuki', 20)\n"
     ]
    }
   ],
   "source": [
    "with engine.connect() as con:\n",
    "    \n",
    "\n",
    "    rows = con.execute(\"SELECT * FROM USERS\")\n",
    "    for row in rows:\n",
    "        print(row)\n"
   ]
  },
  {
   "cell_type": "code",
   "execution_count": 9,
   "metadata": {},
   "outputs": [
    {
     "name": "stdout",
     "output_type": "stream",
     "text": [
      "Users.id\n"
     ]
    }
   ],
   "source": [
    "print(users.c.id)"
   ]
  },
  {
   "cell_type": "code",
   "execution_count": null,
   "metadata": {},
   "outputs": [],
   "source": []
  }
 ],
 "metadata": {
  "kernelspec": {
   "display_name": "Python 3.10.4 ('orm_pra')",
   "language": "python",
   "name": "python3"
  },
  "language_info": {
   "codemirror_mode": {
    "name": "ipython",
    "version": 3
   },
   "file_extension": ".py",
   "mimetype": "text/x-python",
   "name": "python",
   "nbconvert_exporter": "python",
   "pygments_lexer": "ipython3",
   "version": "3.10.4"
  },
  "orig_nbformat": 4,
  "vscode": {
   "interpreter": {
    "hash": "2138883cad8223e91f46e8d43bb01c8b3efb920270b9a928f8bb65fb295feddd"
   }
  }
 },
 "nbformat": 4,
 "nbformat_minor": 2
}
