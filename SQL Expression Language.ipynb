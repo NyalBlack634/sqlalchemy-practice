{
 "cells": [
  {
   "cell_type": "code",
   "execution_count": 1,
   "metadata": {},
   "outputs": [],
   "source": [
    "from sqlalchemy import Table, Column, Integer, String, MetaData, create_engine"
   ]
  },
  {
   "cell_type": "code",
   "execution_count": 2,
   "metadata": {},
   "outputs": [],
   "source": [
    "from sqlalchemy.sql import select"
   ]
  },
  {
   "cell_type": "code",
   "execution_count": 3,
   "metadata": {},
   "outputs": [],
   "source": [
    "# Select文サンプル\n",
    "# sel_select = select([users.c.id, users.c.name]).limit(3)\n",
    "# resutl = con.execute(sel_select)\n",
    "# for row in result:\n",
    "#     print(row)"
   ]
  },
  {
   "cell_type": "code",
   "execution_count": 5,
   "metadata": {},
   "outputs": [],
   "source": [
    "engine = create_engine('sqlite:///test.db')"
   ]
  },
  {
   "cell_type": "code",
   "execution_count": 6,
   "metadata": {},
   "outputs": [],
   "source": [
    "with engine.connect() as con:\n",
    "\n",
    "    # Drop文を実行\n",
    "    con.execute(\"DROP TABLE IF EXISTS USERS\")\n"
   ]
  },
  {
   "cell_type": "markdown",
   "metadata": {},
   "source": [
    "### insert文"
   ]
  },
  {
   "cell_type": "code",
   "execution_count": 9,
   "metadata": {},
   "outputs": [],
   "source": [
    "from sqlalchemy.sql import insert\n"
   ]
  },
  {
   "cell_type": "code",
   "execution_count": 7,
   "metadata": {},
   "outputs": [],
   "source": [
    "meta = MetaData(engine)\n",
    "meta.reflect()\n"
   ]
  },
  {
   "cell_type": "code",
   "execution_count": 8,
   "metadata": {},
   "outputs": [],
   "source": [
    "users = Table('Users', meta,\n",
    "              Column('id', Integer, primary_key=True),\n",
    "              Column('name', String),\n",
    "              Column('age', Integer)\n",
    "              )\n",
    "\n",
    "meta.create_all()"
   ]
  },
  {
   "cell_type": "code",
   "execution_count": 10,
   "metadata": {},
   "outputs": [
    {
     "name": "stdout",
     "output_type": "stream",
     "text": [
      "<sqlalchemy.engine.cursor.LegacyCursorResult object at 0x0000023B04D5F8B0>\n"
     ]
    }
   ],
   "source": [
    "with engine.connect() as con:\n",
    "    sel_insert = insert(users, values=({\"id\": 1, \"name\": 'Suzuki', \"age\": 20},\n",
    "                                       {\"id\": 2, \"name\": 'Suzuki', \"age\": 20},\n",
    "                                       ))\n",
    "    \n",
    "    result = con.execute(sel_insert)\n",
    "    print(result)\n"
   ]
  },
  {
   "cell_type": "markdown",
   "metadata": {},
   "source": [
    "### Select文"
   ]
  },
  {
   "cell_type": "code",
   "execution_count": 11,
   "metadata": {},
   "outputs": [],
   "source": [
    "from sqlalchemy.sql import select"
   ]
  },
  {
   "cell_type": "code",
   "execution_count": 12,
   "metadata": {},
   "outputs": [],
   "source": [
    "users = meta.tables['Users'] # 既存のテーブルを取得してみる"
   ]
  },
  {
   "cell_type": "code",
   "execution_count": 13,
   "metadata": {},
   "outputs": [
    {
     "name": "stdout",
     "output_type": "stream",
     "text": [
      "(1, 'Suzuki')\n",
      "(2, 'Suzuki')\n"
     ]
    }
   ],
   "source": [
    "with engine.connect() as con:\n",
    "    # select id, name from Users where id=3 limit 3;\n",
    "    sel_select = select(users.c.id, users.c.name).limit(3)\n",
    "    result = con.execute(sel_select)\n",
    "\n",
    "    for row in result:\n",
    "        print(row)"
   ]
  },
  {
   "cell_type": "code",
   "execution_count": 14,
   "metadata": {},
   "outputs": [
    {
     "name": "stdout",
     "output_type": "stream",
     "text": [
      "(1, 'Suzuki', 20)\n",
      "(2, 'Suzuki', 20)\n"
     ]
    }
   ],
   "source": [
    "with engine.connect() as con:\n",
    "    # select * from Users where id=1;\n",
    "    sel_select = select([users])\n",
    "    result = con.execute(sel_select, id=1)\n",
    "\n",
    "    for row in result:\n",
    "        print(row)\n"
   ]
  },
  {
   "cell_type": "markdown",
   "metadata": {},
   "source": [
    "### update文"
   ]
  },
  {
   "cell_type": "code",
   "execution_count": null,
   "metadata": {},
   "outputs": [],
   "source": []
  },
  {
   "cell_type": "code",
   "execution_count": 15,
   "metadata": {},
   "outputs": [],
   "source": [
    "from sqlalchemy.sql import update"
   ]
  },
  {
   "cell_type": "code",
   "execution_count": 16,
   "metadata": {},
   "outputs": [
    {
     "name": "stdout",
     "output_type": "stream",
     "text": [
      "(1, 'Suzuki', 20)\n",
      "(2, 'Suzuki', 20)\n"
     ]
    }
   ],
   "source": [
    "with engine.connect() as con:\n",
    "    sel_update = update(users, users.c.name == 'Tanaka')\n",
    "    con.execute(sel_update)\n",
    "\n",
    "    sel_select = select([users])\n",
    "    result = con.execute(sel_select, id=1)\n",
    "\n",
    "    for row in result:\n",
    "        print(row)\n"
   ]
  },
  {
   "cell_type": "code",
   "execution_count": null,
   "metadata": {},
   "outputs": [],
   "source": []
  }
 ],
 "metadata": {
  "kernelspec": {
   "display_name": "Python 3.10.4 ('orm_pra')",
   "language": "python",
   "name": "python3"
  },
  "language_info": {
   "codemirror_mode": {
    "name": "ipython",
    "version": 3
   },
   "file_extension": ".py",
   "mimetype": "text/x-python",
   "name": "python",
   "nbconvert_exporter": "python",
   "pygments_lexer": "ipython3",
   "version": "3.10.4"
  },
  "orig_nbformat": 4,
  "vscode": {
   "interpreter": {
    "hash": "2138883cad8223e91f46e8d43bb01c8b3efb920270b9a928f8bb65fb295feddd"
   }
  }
 },
 "nbformat": 4,
 "nbformat_minor": 2
}
